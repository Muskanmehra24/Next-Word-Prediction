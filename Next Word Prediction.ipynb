{
 "cells": [
  {
   "cell_type": "code",
   "execution_count": 3,
   "id": "65849bff",
   "metadata": {},
   "outputs": [],
   "source": [
    "import numpy as np\n",
    "import tensorflow as tf\n",
    "from tensorflow.keras.preprocessing.text import Tokenizer\n",
    "from tensorflow.keras.preprocessing.sequence import pad_sequences\n",
    "from tensorflow.keras.models import Sequential\n",
    "from tensorflow.keras.layers import Embedding, LSTM, Dense"
   ]
  },
  {
   "cell_type": "code",
   "execution_count": 5,
   "id": "71940055",
   "metadata": {},
   "outputs": [],
   "source": [
    "# source text\n",
    "data = \"\"\" Piford Technologies is a leading Software Development Company\\n\n",
    "Piford Technologies provide trainings to working professionals and students\\n\n",
    "We are product based and service based company\\n\n",
    "we have one of our office in IT Park, Mohali\\n \"\"\""
   ]
  },
  {
   "cell_type": "code",
   "execution_count": 10,
   "id": "dd9d5f0c",
   "metadata": {},
   "outputs": [],
   "source": [
    "mytokenizer = Tokenizer()\n",
    "mytokenizer.fit_on_texts([data])\n",
    "total_words = len(mytokenizer.word_index) + 1\n"
   ]
  },
  {
   "cell_type": "code",
   "execution_count": 8,
   "id": "5e05bd14",
   "metadata": {},
   "outputs": [
    {
     "data": {
      "text/plain": [
       "[1,\n",
       " 2,\n",
       " 7,\n",
       " 8,\n",
       " 9,\n",
       " 10,\n",
       " 11,\n",
       " 3,\n",
       " 1,\n",
       " 2,\n",
       " 12,\n",
       " 13,\n",
       " 14,\n",
       " 15,\n",
       " 16,\n",
       " 4,\n",
       " 17,\n",
       " 5,\n",
       " 18,\n",
       " 19,\n",
       " 6,\n",
       " 4,\n",
       " 20,\n",
       " 6,\n",
       " 3,\n",
       " 5,\n",
       " 21,\n",
       " 22,\n",
       " 23,\n",
       " 24,\n",
       " 25,\n",
       " 26,\n",
       " 27,\n",
       " 28,\n",
       " 29]"
      ]
     },
     "execution_count": 8,
     "metadata": {},
     "output_type": "execute_result"
    }
   ],
   "source": [
    "# integer encode text\n",
    "tokenizer = Tokenizer()\n",
    "tokenizer.fit_on_texts([data])\n",
    "encoded_data= tokenizer.texts_to_sequences([data])[0]\n",
    "encoded_data"
   ]
  },
  {
   "cell_type": "code",
   "execution_count": 11,
   "id": "7429f5a7",
   "metadata": {},
   "outputs": [
    {
     "data": {
      "text/plain": [
       "{'piford': 1,\n",
       " 'technologies': 2,\n",
       " 'company': 3,\n",
       " 'and': 4,\n",
       " 'we': 5,\n",
       " 'based': 6,\n",
       " 'is': 7,\n",
       " 'a': 8,\n",
       " 'leading': 9,\n",
       " 'software': 10,\n",
       " 'development': 11,\n",
       " 'provide': 12,\n",
       " 'trainings': 13,\n",
       " 'to': 14,\n",
       " 'working': 15,\n",
       " 'professionals': 16,\n",
       " 'students': 17,\n",
       " 'are': 18,\n",
       " 'product': 19,\n",
       " 'service': 20,\n",
       " 'have': 21,\n",
       " 'one': 22,\n",
       " 'of': 23,\n",
       " 'our': 24,\n",
       " 'office': 25,\n",
       " 'in': 26,\n",
       " 'it': 27,\n",
       " 'park': 28,\n",
       " 'mohali': 29}"
      ]
     },
     "execution_count": 11,
     "metadata": {},
     "output_type": "execute_result"
    }
   ],
   "source": [
    "mytokenizer.word_index"
   ]
  },
  {
   "cell_type": "code",
   "execution_count": 13,
   "id": "def7d019",
   "metadata": {},
   "outputs": [],
   "source": [
    "my_input_sequences = []\n",
    "for line in data.split('\\n'):\n",
    "    #print(line)\n",
    "    token_list = mytokenizer.texts_to_sequences([line])[0]\n",
    "    #print(token_list)\n",
    "    for i in range(1, len(token_list)):\n",
    "        my_n_gram_sequence = token_list[:i+1]\n",
    "        #print(my_n_gram_sequence)\n",
    "        my_input_sequences.append(my_n_gram_sequence)\n",
    "        #print(input_sequences)"
   ]
  },
  {
   "cell_type": "code",
   "execution_count": 14,
   "id": "688890a3",
   "metadata": {},
   "outputs": [],
   "source": [
    "max_sequence_len = max([len(seq) for seq in my_input_sequences])\n",
    "input_sequences = np.array(pad_sequences(my_input_sequences, maxlen=max_sequence_len, padding='pre'))\n"
   ]
  },
  {
   "cell_type": "code",
   "execution_count": 15,
   "id": "997b3f3e",
   "metadata": {},
   "outputs": [
    {
     "data": {
      "text/plain": [
       "array([0, 0, 0, 0, 0, 0, 0, 1, 2, 7])"
      ]
     },
     "execution_count": 15,
     "metadata": {},
     "output_type": "execute_result"
    }
   ],
   "source": [
    "input_sequences[1]"
   ]
  },
  {
   "cell_type": "code",
   "execution_count": 16,
   "id": "eb47d041",
   "metadata": {},
   "outputs": [],
   "source": [
    "X = input_sequences[:, :-1]\n",
    "y = input_sequences[:, -1]"
   ]
  },
  {
   "cell_type": "code",
   "execution_count": 17,
   "id": "12f4c5da",
   "metadata": {},
   "outputs": [
    {
     "data": {
      "text/plain": [
       "array([0, 0, 0, 0, 0, 0, 0, 1, 2])"
      ]
     },
     "execution_count": 17,
     "metadata": {},
     "output_type": "execute_result"
    }
   ],
   "source": [
    "X[1]"
   ]
  },
  {
   "cell_type": "code",
   "execution_count": 18,
   "id": "d38ae34d",
   "metadata": {},
   "outputs": [],
   "source": [
    "y = np.array(tf.keras.utils.to_categorical(y, num_classes=total_words))"
   ]
  },
  {
   "cell_type": "code",
   "execution_count": 19,
   "id": "28f62ff9",
   "metadata": {},
   "outputs": [
    {
     "data": {
      "text/plain": [
       "array([0., 0., 0., 0., 0., 0., 0., 1., 0., 0., 0., 0., 0., 0., 0., 0., 0.,\n",
       "       0., 0., 0., 0., 0., 0., 0., 0., 0., 0., 0., 0., 0.], dtype=float32)"
      ]
     },
     "execution_count": 19,
     "metadata": {},
     "output_type": "execute_result"
    }
   ],
   "source": [
    "y[1]"
   ]
  },
  {
   "cell_type": "code",
   "execution_count": 20,
   "id": "bca700a3",
   "metadata": {},
   "outputs": [
    {
     "name": "stdout",
     "output_type": "stream",
     "text": [
      "Model: \"sequential\"\n",
      "_________________________________________________________________\n",
      " Layer (type)                Output Shape              Param #   \n",
      "=================================================================\n",
      " embedding (Embedding)       (None, 9, 100)            3000      \n",
      "                                                                 \n",
      " lstm (LSTM)                 (None, 150)               150600    \n",
      "                                                                 \n",
      " dense (Dense)               (None, 30)                4530      \n",
      "                                                                 \n",
      "=================================================================\n",
      "Total params: 158,130\n",
      "Trainable params: 158,130\n",
      "Non-trainable params: 0\n",
      "_________________________________________________________________\n",
      "None\n"
     ]
    }
   ],
   "source": [
    "model = Sequential()\n",
    "model.add(Embedding(total_words, 100, input_length=max_sequence_len-1))\n",
    "model.add(LSTM(150))\n",
    "model.add(Dense(total_words, activation='softmax'))\n",
    "print(model.summary())"
   ]
  },
  {
   "cell_type": "code",
   "execution_count": 21,
   "id": "3b11d036",
   "metadata": {},
   "outputs": [
    {
     "name": "stdout",
     "output_type": "stream",
     "text": [
      "Epoch 1/100\n",
      "1/1 [==============================] - 5s 5s/step - loss: 3.4016 - accuracy: 0.0000e+00\n",
      "Epoch 2/100\n",
      "1/1 [==============================] - 0s 18ms/step - loss: 3.3934 - accuracy: 0.0645\n",
      "Epoch 3/100\n",
      "1/1 [==============================] - 0s 50ms/step - loss: 3.3852 - accuracy: 0.1613\n",
      "Epoch 4/100\n",
      "1/1 [==============================] - 0s 17ms/step - loss: 3.3767 - accuracy: 0.1613\n",
      "Epoch 5/100\n",
      "1/1 [==============================] - 0s 16ms/step - loss: 3.3677 - accuracy: 0.1613\n",
      "Epoch 6/100\n",
      "1/1 [==============================] - 0s 17ms/step - loss: 3.3578 - accuracy: 0.1935\n",
      "Epoch 7/100\n",
      "1/1 [==============================] - 0s 20ms/step - loss: 3.3469 - accuracy: 0.1935\n",
      "Epoch 8/100\n",
      "1/1 [==============================] - 0s 14ms/step - loss: 3.3346 - accuracy: 0.1613\n",
      "Epoch 9/100\n",
      "1/1 [==============================] - 0s 16ms/step - loss: 3.3205 - accuracy: 0.1290\n",
      "Epoch 10/100\n",
      "1/1 [==============================] - 0s 16ms/step - loss: 3.3041 - accuracy: 0.1290\n",
      "Epoch 11/100\n",
      "1/1 [==============================] - 0s 21ms/step - loss: 3.2850 - accuracy: 0.0968\n",
      "Epoch 12/100\n",
      "1/1 [==============================] - 0s 13ms/step - loss: 3.2626 - accuracy: 0.0645\n",
      "Epoch 13/100\n",
      "1/1 [==============================] - 0s 17ms/step - loss: 3.2367 - accuracy: 0.0645\n",
      "Epoch 14/100\n",
      "1/1 [==============================] - 0s 15ms/step - loss: 3.2080 - accuracy: 0.0645\n",
      "Epoch 15/100\n",
      "1/1 [==============================] - 0s 17ms/step - loss: 3.1789 - accuracy: 0.0645\n",
      "Epoch 16/100\n",
      "1/1 [==============================] - 0s 17ms/step - loss: 3.1546 - accuracy: 0.0645\n",
      "Epoch 17/100\n",
      "1/1 [==============================] - 0s 17ms/step - loss: 3.1366 - accuracy: 0.0645\n",
      "Epoch 18/100\n",
      "1/1 [==============================] - 0s 18ms/step - loss: 3.1143 - accuracy: 0.0645\n",
      "Epoch 19/100\n",
      "1/1 [==============================] - 0s 20ms/step - loss: 3.0811 - accuracy: 0.0968\n",
      "Epoch 20/100\n",
      "1/1 [==============================] - 0s 17ms/step - loss: 3.0430 - accuracy: 0.1613\n",
      "Epoch 21/100\n",
      "1/1 [==============================] - 0s 17ms/step - loss: 3.0070 - accuracy: 0.1935\n",
      "Epoch 22/100\n",
      "1/1 [==============================] - 0s 21ms/step - loss: 2.9737 - accuracy: 0.2258\n",
      "Epoch 23/100\n",
      "1/1 [==============================] - 0s 16ms/step - loss: 2.9381 - accuracy: 0.2258\n",
      "Epoch 24/100\n",
      "1/1 [==============================] - 0s 16ms/step - loss: 2.8945 - accuracy: 0.2258\n",
      "Epoch 25/100\n",
      "1/1 [==============================] - 0s 15ms/step - loss: 2.8399 - accuracy: 0.2258\n",
      "Epoch 26/100\n",
      "1/1 [==============================] - 0s 19ms/step - loss: 2.7777 - accuracy: 0.2258\n",
      "Epoch 27/100\n",
      "1/1 [==============================] - 0s 11ms/step - loss: 2.7176 - accuracy: 0.2258\n",
      "Epoch 28/100\n",
      "1/1 [==============================] - 0s 17ms/step - loss: 2.6590 - accuracy: 0.2581\n",
      "Epoch 29/100\n",
      "1/1 [==============================] - 0s 18ms/step - loss: 2.5811 - accuracy: 0.2581\n",
      "Epoch 30/100\n",
      "1/1 [==============================] - 0s 17ms/step - loss: 2.4920 - accuracy: 0.3871\n",
      "Epoch 31/100\n",
      "1/1 [==============================] - 0s 13ms/step - loss: 2.4162 - accuracy: 0.3548\n",
      "Epoch 32/100\n",
      "1/1 [==============================] - 0s 17ms/step - loss: 2.3264 - accuracy: 0.4194\n",
      "Epoch 33/100\n",
      "1/1 [==============================] - 0s 16ms/step - loss: 2.2318 - accuracy: 0.3871\n",
      "Epoch 34/100\n",
      "1/1 [==============================] - 0s 16ms/step - loss: 2.1548 - accuracy: 0.3871\n",
      "Epoch 35/100\n",
      "1/1 [==============================] - 0s 17ms/step - loss: 2.0544 - accuracy: 0.4839\n",
      "Epoch 36/100\n",
      "1/1 [==============================] - 0s 10ms/step - loss: 1.9897 - accuracy: 0.5484\n",
      "Epoch 37/100\n",
      "1/1 [==============================] - 0s 21ms/step - loss: 1.9005 - accuracy: 0.4516\n",
      "Epoch 38/100\n",
      "1/1 [==============================] - 0s 16ms/step - loss: 1.8297 - accuracy: 0.4516\n",
      "Epoch 39/100\n",
      "1/1 [==============================] - 0s 15ms/step - loss: 1.7689 - accuracy: 0.6452\n",
      "Epoch 40/100\n",
      "1/1 [==============================] - 0s 20ms/step - loss: 1.6897 - accuracy: 0.6774\n",
      "Epoch 41/100\n",
      "1/1 [==============================] - 0s 15ms/step - loss: 1.6302 - accuracy: 0.6774\n",
      "Epoch 42/100\n",
      "1/1 [==============================] - 0s 17ms/step - loss: 1.5801 - accuracy: 0.7097\n",
      "Epoch 43/100\n",
      "1/1 [==============================] - 0s 17ms/step - loss: 1.5297 - accuracy: 0.6774\n",
      "Epoch 44/100\n",
      "1/1 [==============================] - 0s 27ms/step - loss: 1.4659 - accuracy: 0.7097\n",
      "Epoch 45/100\n",
      "1/1 [==============================] - 0s 19ms/step - loss: 1.4234 - accuracy: 0.7742\n",
      "Epoch 46/100\n",
      "1/1 [==============================] - 0s 18ms/step - loss: 1.3890 - accuracy: 0.7742\n",
      "Epoch 47/100\n",
      "1/1 [==============================] - 0s 24ms/step - loss: 1.3180 - accuracy: 0.7742\n",
      "Epoch 48/100\n",
      "1/1 [==============================] - 0s 17ms/step - loss: 1.2756 - accuracy: 0.7742\n",
      "Epoch 49/100\n",
      "1/1 [==============================] - 0s 22ms/step - loss: 1.2490 - accuracy: 0.8065\n",
      "Epoch 50/100\n",
      "1/1 [==============================] - 0s 14ms/step - loss: 1.1961 - accuracy: 0.8387\n",
      "Epoch 51/100\n",
      "1/1 [==============================] - 0s 12ms/step - loss: 1.1623 - accuracy: 0.8387\n",
      "Epoch 52/100\n",
      "1/1 [==============================] - 0s 17ms/step - loss: 1.1196 - accuracy: 0.8065\n",
      "Epoch 53/100\n",
      "1/1 [==============================] - 0s 15ms/step - loss: 1.0872 - accuracy: 0.8710\n",
      "Epoch 54/100\n",
      "1/1 [==============================] - 0s 15ms/step - loss: 1.0611 - accuracy: 0.8387\n",
      "Epoch 55/100\n",
      "1/1 [==============================] - 0s 17ms/step - loss: 1.0121 - accuracy: 0.8710\n",
      "Epoch 56/100\n",
      "1/1 [==============================] - 0s 12ms/step - loss: 0.9922 - accuracy: 0.8710\n",
      "Epoch 57/100\n",
      "1/1 [==============================] - 0s 15ms/step - loss: 0.9608 - accuracy: 0.8710\n",
      "Epoch 58/100\n",
      "1/1 [==============================] - 0s 20ms/step - loss: 0.9256 - accuracy: 0.8710\n",
      "Epoch 59/100\n",
      "1/1 [==============================] - 0s 16ms/step - loss: 0.9083 - accuracy: 0.8710\n",
      "Epoch 60/100\n",
      "1/1 [==============================] - 0s 17ms/step - loss: 0.8675 - accuracy: 0.8710\n",
      "Epoch 61/100\n",
      "1/1 [==============================] - 0s 16ms/step - loss: 0.8496 - accuracy: 0.8710\n",
      "Epoch 62/100\n",
      "1/1 [==============================] - 0s 13ms/step - loss: 0.8236 - accuracy: 0.8710\n",
      "Epoch 63/100\n",
      "1/1 [==============================] - 0s 16ms/step - loss: 0.8023 - accuracy: 0.8710\n",
      "Epoch 64/100\n",
      "1/1 [==============================] - 0s 20ms/step - loss: 0.7893 - accuracy: 0.8387\n",
      "Epoch 65/100\n",
      "1/1 [==============================] - 0s 12ms/step - loss: 0.7606 - accuracy: 0.8710\n",
      "Epoch 66/100\n",
      "1/1 [==============================] - 0s 17ms/step - loss: 0.7453 - accuracy: 0.9032\n",
      "Epoch 67/100\n",
      "1/1 [==============================] - 0s 27ms/step - loss: 0.7161 - accuracy: 0.8710\n",
      "Epoch 68/100\n",
      "1/1 [==============================] - 0s 14ms/step - loss: 0.7022 - accuracy: 0.8710\n",
      "Epoch 69/100\n",
      "1/1 [==============================] - 0s 17ms/step - loss: 0.6804 - accuracy: 0.9032\n",
      "Epoch 70/100\n",
      "1/1 [==============================] - 0s 18ms/step - loss: 0.6684 - accuracy: 0.9032\n",
      "Epoch 71/100\n",
      "1/1 [==============================] - 0s 11ms/step - loss: 0.6523 - accuracy: 0.9032\n",
      "Epoch 72/100\n",
      "1/1 [==============================] - 0s 14ms/step - loss: 0.6355 - accuracy: 0.8710\n",
      "Epoch 73/100\n",
      "1/1 [==============================] - 0s 23ms/step - loss: 0.6186 - accuracy: 0.9032\n",
      "Epoch 74/100\n",
      "1/1 [==============================] - 0s 12ms/step - loss: 0.6020 - accuracy: 0.9032\n",
      "Epoch 75/100\n",
      "1/1 [==============================] - 0s 15ms/step - loss: 0.5910 - accuracy: 0.8710\n",
      "Epoch 76/100\n",
      "1/1 [==============================] - 0s 13ms/step - loss: 0.5764 - accuracy: 0.9032\n",
      "Epoch 77/100\n",
      "1/1 [==============================] - 0s 14ms/step - loss: 0.5661 - accuracy: 0.9032\n",
      "Epoch 78/100\n",
      "1/1 [==============================] - 0s 20ms/step - loss: 0.5513 - accuracy: 0.9032\n",
      "Epoch 79/100\n",
      "1/1 [==============================] - 0s 22ms/step - loss: 0.5401 - accuracy: 0.9355\n",
      "Epoch 80/100\n",
      "1/1 [==============================] - 0s 20ms/step - loss: 0.5258 - accuracy: 0.9032\n",
      "Epoch 81/100\n",
      "1/1 [==============================] - 0s 11ms/step - loss: 0.5152 - accuracy: 0.9355\n",
      "Epoch 82/100\n",
      "1/1 [==============================] - 0s 14ms/step - loss: 0.5042 - accuracy: 0.9355\n",
      "Epoch 83/100\n",
      "1/1 [==============================] - 0s 20ms/step - loss: 0.4941 - accuracy: 0.9355\n",
      "Epoch 84/100\n",
      "1/1 [==============================] - 0s 16ms/step - loss: 0.4849 - accuracy: 0.9355\n",
      "Epoch 85/100\n",
      "1/1 [==============================] - 0s 18ms/step - loss: 0.4751 - accuracy: 0.9355\n",
      "Epoch 86/100\n",
      "1/1 [==============================] - 0s 16ms/step - loss: 0.4669 - accuracy: 0.9355\n",
      "Epoch 87/100\n",
      "1/1 [==============================] - 0s 15ms/step - loss: 0.4574 - accuracy: 0.9355\n",
      "Epoch 88/100\n",
      "1/1 [==============================] - 0s 17ms/step - loss: 0.4486 - accuracy: 0.9355\n",
      "Epoch 89/100\n",
      "1/1 [==============================] - 0s 11ms/step - loss: 0.4402 - accuracy: 0.9355\n",
      "Epoch 90/100\n",
      "1/1 [==============================] - 0s 17ms/step - loss: 0.4304 - accuracy: 0.9355\n",
      "Epoch 91/100\n",
      "1/1 [==============================] - 0s 16ms/step - loss: 0.4207 - accuracy: 0.9355\n",
      "Epoch 92/100\n",
      "1/1 [==============================] - 0s 17ms/step - loss: 0.4110 - accuracy: 0.9355\n",
      "Epoch 93/100\n",
      "1/1 [==============================] - 0s 14ms/step - loss: 0.4030 - accuracy: 0.9355\n",
      "Epoch 94/100\n",
      "1/1 [==============================] - 0s 14ms/step - loss: 0.3951 - accuracy: 0.9355\n",
      "Epoch 95/100\n",
      "1/1 [==============================] - 0s 16ms/step - loss: 0.3888 - accuracy: 0.9355\n",
      "Epoch 96/100\n",
      "1/1 [==============================] - 0s 20ms/step - loss: 0.3823 - accuracy: 0.9355\n",
      "Epoch 97/100\n",
      "1/1 [==============================] - 0s 17ms/step - loss: 0.3759 - accuracy: 0.9355\n",
      "Epoch 98/100\n",
      "1/1 [==============================] - 0s 13ms/step - loss: 0.3694 - accuracy: 0.9355\n",
      "Epoch 99/100\n",
      "1/1 [==============================] - 0s 16ms/step - loss: 0.3621 - accuracy: 0.9355\n",
      "Epoch 100/100\n",
      "1/1 [==============================] - 0s 13ms/step - loss: 0.3558 - accuracy: 0.9355\n"
     ]
    },
    {
     "data": {
      "text/plain": [
       "<keras.callbacks.History at 0x227abe7f280>"
      ]
     },
     "execution_count": 21,
     "metadata": {},
     "output_type": "execute_result"
    }
   ],
   "source": [
    "model.compile(loss='categorical_crossentropy', optimizer='adam', metrics=['accuracy'])\n",
    "model.fit(X, y, epochs=100, verbose=1)"
   ]
  },
  {
   "cell_type": "code",
   "execution_count": 24,
   "id": "47d6f51d",
   "metadata": {},
   "outputs": [
    {
     "name": "stdout",
     "output_type": "stream",
     "text": [
      "[1]\n",
      "1/1 [==============================] - 0s 49ms/step\n",
      "[1, 2]\n",
      "1/1 [==============================] - 0s 48ms/step\n",
      "[1, 2, 7]\n",
      "1/1 [==============================] - 0s 50ms/step\n",
      "[1, 2, 7, 8]\n",
      "1/1 [==============================] - 0s 48ms/step\n",
      "[1, 2, 7, 8, 9]\n",
      "1/1 [==============================] - 0s 47ms/step\n",
      "[1, 2, 7, 8, 9, 10]\n",
      "1/1 [==============================] - 0s 46ms/step\n",
      " Piford  technologies is a leading software development\n"
     ]
    }
   ],
   "source": [
    "input_text = \" Piford \"\n",
    "predict_next_words= 6\n",
    "\n",
    "for _ in range(predict_next_words):\n",
    "    token_list = mytokenizer.texts_to_sequences([input_text])[0]\n",
    "    print(token_list)\n",
    "    token_list = pad_sequences([token_list], maxlen=max_sequence_len-1, padding='pre')\n",
    "    predicted = np.argmax(model.predict(token_list), axis=-1)\n",
    "    output_word = \"\"\n",
    "    for word, index in mytokenizer.word_index.items():\n",
    "        if index == predicted:\n",
    "            output_word = word\n",
    "            break\n",
    "    input_text += \" \" + output_word\n",
    "\n",
    "print(input_text)"
   ]
  },
  {
   "cell_type": "code",
   "execution_count": null,
   "id": "fde26f78",
   "metadata": {},
   "outputs": [],
   "source": []
  }
 ],
 "metadata": {
  "kernelspec": {
   "display_name": "Python 3 (ipykernel)",
   "language": "python",
   "name": "python3"
  },
  "language_info": {
   "codemirror_mode": {
    "name": "ipython",
    "version": 3
   },
   "file_extension": ".py",
   "mimetype": "text/x-python",
   "name": "python",
   "nbconvert_exporter": "python",
   "pygments_lexer": "ipython3",
   "version": "3.10.13"
  }
 },
 "nbformat": 4,
 "nbformat_minor": 5
}
